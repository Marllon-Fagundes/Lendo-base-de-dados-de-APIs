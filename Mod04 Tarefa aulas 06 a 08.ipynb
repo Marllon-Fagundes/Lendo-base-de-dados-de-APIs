{
 "cells": [
  {
   "cell_type": "markdown",
   "metadata": {},
   "source": [
    "# Tarefa 03\n",
    "\n",
    "- Leia os enunciados com atenção\n",
    "- Saiba que pode haver mais de uma resposta correta\n",
    "- Insira novas células de código sempre que achar necessário\n",
    "- Em caso de dúvidas, procure os Tutores\n",
    "- Divirta-se :)"
   ]
  },
  {
   "cell_type": "code",
   "execution_count": 97,
   "metadata": {},
   "outputs": [],
   "source": [
    "import pandas as pd\n",
    "import requests"
   ]
  },
  {
   "cell_type": "markdown",
   "metadata": {},
   "source": [
    "####  1) Lendo de APIs\n",
    "Vimos em aula como carregar dados públicos do governo através de um API (*Application Programming Interface*). No exemplo de aula, baixamos os dados de pedidos de verificação de limites (PVL) realizados por estados, e selecionamos apenas aqueles referentes ao estado de São Paulo.\n",
    "\n",
    "1. Repita os mesmos passos feitos em aula, mas selecione os PVLs realizados por municípios no estado do Rio de Janeiro.\n",
    "2. Quais são os três *status* das solicitações mais frequentes na base? Quais são suas frequências?\n",
    "3. Construa uma nova variável que contenha o ano do **status**. Observe que ```data_status``` vem como tipo *object* no **DataFrame**. Dica: você pode usar o método ```.str``` para transformar o tipo da variável em string, em seguida um método como [**slice()**](https://pandas.pydata.org/docs/reference/api/pandas.Series.str.slice.html) ou [**split()**](https://pandas.pydata.org/pandas-docs/stable/reference/api/pandas.Series.str.split.html).\n",
    "4. Indique a frequência de cada ano do campo construído no item (3)."
   ]
  },
  {
   "cell_type": "code",
   "execution_count": 98,
   "metadata": {},
   "outputs": [],
   "source": [
    "# 1) Seu código aqui\n",
    "url = 'https://apidatalake.tesouro.gov.br/ords/sadipem/tt/pvl?uf=RJ&tipo_interessado=Munic%C3%ADpio'\n",
    "r = requests.get(url)"
   ]
  },
  {
   "cell_type": "code",
   "execution_count": 99,
   "metadata": {},
   "outputs": [
    {
     "data": {
      "text/plain": [
       "200"
      ]
     },
     "execution_count": 99,
     "metadata": {},
     "output_type": "execute_result"
    }
   ],
   "source": [
    "r.status_code"
   ]
  },
  {
   "cell_type": "code",
   "execution_count": 100,
   "metadata": {
    "scrolled": true
   },
   "outputs": [],
   "source": [
    "data_json = r.json()"
   ]
  },
  {
   "cell_type": "code",
   "execution_count": 101,
   "metadata": {},
   "outputs": [],
   "source": [
    "data = pd.DataFrame(data_json['items'])"
   ]
  },
  {
   "cell_type": "code",
   "execution_count": 102,
   "metadata": {},
   "outputs": [
    {
     "data": {
      "text/html": [
       "<div>\n",
       "<style scoped>\n",
       "    .dataframe tbody tr th:only-of-type {\n",
       "        vertical-align: middle;\n",
       "    }\n",
       "\n",
       "    .dataframe tbody tr th {\n",
       "        vertical-align: top;\n",
       "    }\n",
       "\n",
       "    .dataframe thead th {\n",
       "        text-align: right;\n",
       "    }\n",
       "</style>\n",
       "<table border=\"1\" class=\"dataframe\">\n",
       "  <thead>\n",
       "    <tr style=\"text-align: right;\">\n",
       "      <th></th>\n",
       "      <th>id_pleito</th>\n",
       "      <th>tipo_interessado</th>\n",
       "      <th>interessado</th>\n",
       "      <th>cod_ibge</th>\n",
       "      <th>uf</th>\n",
       "      <th>num_pvl</th>\n",
       "      <th>status</th>\n",
       "      <th>num_processo</th>\n",
       "      <th>data_protocolo</th>\n",
       "      <th>tipo_operacao</th>\n",
       "      <th>finalidade</th>\n",
       "      <th>tipo_credor</th>\n",
       "      <th>credor</th>\n",
       "      <th>moeda</th>\n",
       "      <th>valor</th>\n",
       "      <th>pvl_assoc_divida</th>\n",
       "      <th>pvl_contradado_credor</th>\n",
       "      <th>data_status</th>\n",
       "    </tr>\n",
       "  </thead>\n",
       "  <tbody>\n",
       "    <tr>\n",
       "      <th>0</th>\n",
       "      <td>13594</td>\n",
       "      <td>Município</td>\n",
       "      <td>Rio de Janeiro</td>\n",
       "      <td>3304557</td>\n",
       "      <td>RJ</td>\n",
       "      <td>None</td>\n",
       "      <td>Arquivado</td>\n",
       "      <td>19405.000032/2006-84</td>\n",
       "      <td>2006-07-20T03:00:00Z</td>\n",
       "      <td>Operação contratual interna</td>\n",
       "      <td>Saneamento básico</td>\n",
       "      <td>Instituição Financeira Nacional</td>\n",
       "      <td>Caixa Econômica Federal</td>\n",
       "      <td>Real</td>\n",
       "      <td>19146375.63</td>\n",
       "      <td>0</td>\n",
       "      <td>0</td>\n",
       "      <td>26/06/2007</td>\n",
       "    </tr>\n",
       "    <tr>\n",
       "      <th>1</th>\n",
       "      <td>11946</td>\n",
       "      <td>Município</td>\n",
       "      <td>Vassouras</td>\n",
       "      <td>3306206</td>\n",
       "      <td>RJ</td>\n",
       "      <td>None</td>\n",
       "      <td>Arquivado por decurso de prazo</td>\n",
       "      <td>17944.001566/2011-62</td>\n",
       "      <td>2012-04-16T03:00:00Z</td>\n",
       "      <td>Operação contratual interna</td>\n",
       "      <td>Provias 2010</td>\n",
       "      <td>Instituição Financeira Nacional</td>\n",
       "      <td>Caixa Econômica Federal</td>\n",
       "      <td>Real</td>\n",
       "      <td>850000.00</td>\n",
       "      <td>0</td>\n",
       "      <td>0</td>\n",
       "      <td>18/01/2013</td>\n",
       "    </tr>\n",
       "    <tr>\n",
       "      <th>2</th>\n",
       "      <td>9297</td>\n",
       "      <td>Município</td>\n",
       "      <td>Nova Iguaçu</td>\n",
       "      <td>3303500</td>\n",
       "      <td>RJ</td>\n",
       "      <td>None</td>\n",
       "      <td>Regularizado</td>\n",
       "      <td>17944.000949/2007-37</td>\n",
       "      <td>2007-07-25T03:00:00Z</td>\n",
       "      <td>Operação contratual interna</td>\n",
       "      <td>Regularização de Dívida - Energia Elétrica</td>\n",
       "      <td>Empresa Não Estatal</td>\n",
       "      <td>Light - Serviços de Eletricidade S/A</td>\n",
       "      <td>Real</td>\n",
       "      <td>2315218.36</td>\n",
       "      <td>1</td>\n",
       "      <td>0</td>\n",
       "      <td>02/08/2007</td>\n",
       "    </tr>\n",
       "    <tr>\n",
       "      <th>3</th>\n",
       "      <td>12747</td>\n",
       "      <td>Município</td>\n",
       "      <td>Niterói</td>\n",
       "      <td>3303302</td>\n",
       "      <td>RJ</td>\n",
       "      <td>None</td>\n",
       "      <td>Encaminhado à PGFN com manifestação técnica fa...</td>\n",
       "      <td>17944.001779/2006-27</td>\n",
       "      <td>2013-12-04T02:00:00Z</td>\n",
       "      <td>Operação contratual externa (com garantia da U...</td>\n",
       "      <td>Multissetorial</td>\n",
       "      <td>Instituição Financeira Internacional</td>\n",
       "      <td>Banco Interamericano de Desenvolvimento</td>\n",
       "      <td>Dólar dos EUA</td>\n",
       "      <td>26470000.00</td>\n",
       "      <td>1</td>\n",
       "      <td>0</td>\n",
       "      <td>19/12/2013</td>\n",
       "    </tr>\n",
       "    <tr>\n",
       "      <th>4</th>\n",
       "      <td>13677</td>\n",
       "      <td>Município</td>\n",
       "      <td>Barra Mansa</td>\n",
       "      <td>3300407</td>\n",
       "      <td>RJ</td>\n",
       "      <td>None</td>\n",
       "      <td>Deferido</td>\n",
       "      <td>19405.000049/2005-51</td>\n",
       "      <td>2006-05-05T03:00:00Z</td>\n",
       "      <td>Operação contratual interna</td>\n",
       "      <td>PMAT</td>\n",
       "      <td>Instituição Financeira Nacional</td>\n",
       "      <td>Banco Nacional de Desenvolvimento Econômico e ...</td>\n",
       "      <td>Real</td>\n",
       "      <td>2669010.00</td>\n",
       "      <td>0</td>\n",
       "      <td>0</td>\n",
       "      <td>15/05/2006</td>\n",
       "    </tr>\n",
       "  </tbody>\n",
       "</table>\n",
       "</div>"
      ],
      "text/plain": [
       "   id_pleito tipo_interessado     interessado  cod_ibge  uf num_pvl  \\\n",
       "0      13594        Município  Rio de Janeiro   3304557  RJ    None   \n",
       "1      11946        Município       Vassouras   3306206  RJ    None   \n",
       "2       9297        Município     Nova Iguaçu   3303500  RJ    None   \n",
       "3      12747        Município         Niterói   3303302  RJ    None   \n",
       "4      13677        Município     Barra Mansa   3300407  RJ    None   \n",
       "\n",
       "                                              status          num_processo  \\\n",
       "0                                          Arquivado  19405.000032/2006-84   \n",
       "1                     Arquivado por decurso de prazo  17944.001566/2011-62   \n",
       "2                                       Regularizado  17944.000949/2007-37   \n",
       "3  Encaminhado à PGFN com manifestação técnica fa...  17944.001779/2006-27   \n",
       "4                                           Deferido  19405.000049/2005-51   \n",
       "\n",
       "         data_protocolo                                      tipo_operacao  \\\n",
       "0  2006-07-20T03:00:00Z                        Operação contratual interna   \n",
       "1  2012-04-16T03:00:00Z                        Operação contratual interna   \n",
       "2  2007-07-25T03:00:00Z                        Operação contratual interna   \n",
       "3  2013-12-04T02:00:00Z  Operação contratual externa (com garantia da U...   \n",
       "4  2006-05-05T03:00:00Z                        Operação contratual interna   \n",
       "\n",
       "                                   finalidade  \\\n",
       "0                           Saneamento básico   \n",
       "1                                Provias 2010   \n",
       "2  Regularização de Dívida - Energia Elétrica   \n",
       "3                              Multissetorial   \n",
       "4                                        PMAT   \n",
       "\n",
       "                            tipo_credor  \\\n",
       "0       Instituição Financeira Nacional   \n",
       "1       Instituição Financeira Nacional   \n",
       "2                   Empresa Não Estatal   \n",
       "3  Instituição Financeira Internacional   \n",
       "4       Instituição Financeira Nacional   \n",
       "\n",
       "                                              credor          moeda  \\\n",
       "0                            Caixa Econômica Federal           Real   \n",
       "1                            Caixa Econômica Federal           Real   \n",
       "2               Light - Serviços de Eletricidade S/A           Real   \n",
       "3            Banco Interamericano de Desenvolvimento  Dólar dos EUA   \n",
       "4  Banco Nacional de Desenvolvimento Econômico e ...           Real   \n",
       "\n",
       "         valor  pvl_assoc_divida  pvl_contradado_credor data_status  \n",
       "0  19146375.63                 0                      0  26/06/2007  \n",
       "1    850000.00                 0                      0  18/01/2013  \n",
       "2   2315218.36                 1                      0  02/08/2007  \n",
       "3  26470000.00                 1                      0  19/12/2013  \n",
       "4   2669010.00                 0                      0  15/05/2006  "
      ]
     },
     "execution_count": 102,
     "metadata": {},
     "output_type": "execute_result"
    }
   ],
   "source": [
    "data.head()"
   ]
  },
  {
   "cell_type": "markdown",
   "metadata": {},
   "source": [
    "###  Os três status das solicitações mais frequentes na base são: Deferido, Arquivado e Regularizado.\n",
    "### Quais são suas frequências? 96,  53, 26"
   ]
  },
  {
   "cell_type": "code",
   "execution_count": 103,
   "metadata": {},
   "outputs": [
    {
     "data": {
      "text/plain": [
       "Deferido        96\n",
       "Arquivado       53\n",
       "Regularizado    26\n",
       "Name: status, dtype: int64"
      ]
     },
     "execution_count": 103,
     "metadata": {},
     "output_type": "execute_result"
    }
   ],
   "source": [
    "# 2) Seu código aqui\n",
    "data['status'].value_counts()[0:3]"
   ]
  },
  {
   "cell_type": "code",
   "execution_count": 104,
   "metadata": {},
   "outputs": [],
   "source": [
    "# 3) Seu código aqui\n",
    "data['Ano'] = data['data_status'].apply(lambda data: data.split('/')[2])"
   ]
  },
  {
   "cell_type": "code",
   "execution_count": 105,
   "metadata": {
    "scrolled": true
   },
   "outputs": [
    {
     "data": {
      "text/html": [
       "<div>\n",
       "<style scoped>\n",
       "    .dataframe tbody tr th:only-of-type {\n",
       "        vertical-align: middle;\n",
       "    }\n",
       "\n",
       "    .dataframe tbody tr th {\n",
       "        vertical-align: top;\n",
       "    }\n",
       "\n",
       "    .dataframe thead th {\n",
       "        text-align: right;\n",
       "    }\n",
       "</style>\n",
       "<table border=\"1\" class=\"dataframe\">\n",
       "  <thead>\n",
       "    <tr style=\"text-align: right;\">\n",
       "      <th></th>\n",
       "      <th>status</th>\n",
       "      <th>Ano</th>\n",
       "    </tr>\n",
       "  </thead>\n",
       "  <tbody>\n",
       "    <tr>\n",
       "      <th>0</th>\n",
       "      <td>Arquivado</td>\n",
       "      <td>2007</td>\n",
       "    </tr>\n",
       "    <tr>\n",
       "      <th>1</th>\n",
       "      <td>Arquivado por decurso de prazo</td>\n",
       "      <td>2013</td>\n",
       "    </tr>\n",
       "    <tr>\n",
       "      <th>2</th>\n",
       "      <td>Regularizado</td>\n",
       "      <td>2007</td>\n",
       "    </tr>\n",
       "    <tr>\n",
       "      <th>3</th>\n",
       "      <td>Encaminhado à PGFN com manifestação técnica fa...</td>\n",
       "      <td>2013</td>\n",
       "    </tr>\n",
       "    <tr>\n",
       "      <th>4</th>\n",
       "      <td>Deferido</td>\n",
       "      <td>2006</td>\n",
       "    </tr>\n",
       "  </tbody>\n",
       "</table>\n",
       "</div>"
      ],
      "text/plain": [
       "                                              status   Ano\n",
       "0                                          Arquivado  2007\n",
       "1                     Arquivado por decurso de prazo  2013\n",
       "2                                       Regularizado  2007\n",
       "3  Encaminhado à PGFN com manifestação técnica fa...  2013\n",
       "4                                           Deferido  2006"
      ]
     },
     "execution_count": 105,
     "metadata": {},
     "output_type": "execute_result"
    }
   ],
   "source": [
    "data[['status', 'Ano']].head()"
   ]
  },
  {
   "cell_type": "markdown",
   "metadata": {},
   "source": [
    "### Frequência com que cada ano aparece."
   ]
  },
  {
   "cell_type": "code",
   "execution_count": 106,
   "metadata": {},
   "outputs": [
    {
     "data": {
      "text/plain": [
       "2008    37\n",
       "2007    29\n",
       "2014    20\n",
       "2010    19\n",
       "2019    17\n",
       "2020    15\n",
       "2013    15\n",
       "2012    13\n",
       "2023    11\n",
       "2022    11\n",
       "2011    10\n",
       "2009     9\n",
       "2015     8\n",
       "2017     5\n",
       "2021     5\n",
       "2018     4\n",
       "2006     4\n",
       "2016     4\n",
       "2002     4\n",
       "2004     1\n",
       "2003     1\n",
       "Name: Ano, dtype: int64"
      ]
     },
     "execution_count": 106,
     "metadata": {},
     "output_type": "execute_result"
    }
   ],
   "source": [
    "# 4) Seu código aqui\n",
    "data['Ano'].value_counts()"
   ]
  },
  {
   "cell_type": "markdown",
   "metadata": {},
   "source": [
    "####  2) Melhorando a interação com o API\n",
    "Observe dois URLs de consultas diferentes, por exemplo o URL utilizado em aula, e o URL feito no exercício anterior. Compare-os e observe as diferenças.\n",
    "\n",
    "1. Faça uma função em Python que recebe como argumento o UF da consulta e o tipo de interessado (```'Estado'```ou ```Município```), e que devolve os dados da consulta no formato *DataFrame*.\n",
    "2. Quantas solicitações para o Estado podem ser consultadas para Minas Gerais com *status* em 'Arquivado por decurso de prazo' estão registradas?\n",
    "3. Qual é o município da Bahia com mais solicitações deferidas?\n",
    "4. Salve um arquivo .csv com os dados de solicitações da Bahia, com interessado = 'Estado'"
   ]
  },
  {
   "cell_type": "code",
   "execution_count": null,
   "metadata": {},
   "outputs": [],
   "source": []
  },
  {
   "cell_type": "code",
   "execution_count": 107,
   "metadata": {
    "scrolled": false
   },
   "outputs": [],
   "source": [
    "#1) Seu código aqui\n",
    "def le_api_pvl(UF, interessado):\n",
    "    if interessado.lower() == 'estado':\n",
    "        string_int = 'Estado'\n",
    "    else:\n",
    "        string_int = 'Munic%C3%ADpio'\n",
    "\n",
    "\n",
    "    url = 'http://apidatalake.tesouro.gov.br/ords/sadipem/tt/pvl?uf={}&tipo_interessado={}'\n",
    "\n",
    "\n",
    "    r = requests.get(url.format(UF, string_int))\n",
    "    djson = r.json()\n",
    "    return pd.DataFrame(djson['items'])"
   ]
  },
  {
   "cell_type": "code",
   "execution_count": 108,
   "metadata": {
    "scrolled": false
   },
   "outputs": [
    {
     "data": {
      "text/html": [
       "<div>\n",
       "<style scoped>\n",
       "    .dataframe tbody tr th:only-of-type {\n",
       "        vertical-align: middle;\n",
       "    }\n",
       "\n",
       "    .dataframe tbody tr th {\n",
       "        vertical-align: top;\n",
       "    }\n",
       "\n",
       "    .dataframe thead th {\n",
       "        text-align: right;\n",
       "    }\n",
       "</style>\n",
       "<table border=\"1\" class=\"dataframe\">\n",
       "  <thead>\n",
       "    <tr style=\"text-align: right;\">\n",
       "      <th></th>\n",
       "      <th>id_pleito</th>\n",
       "      <th>tipo_interessado</th>\n",
       "      <th>interessado</th>\n",
       "      <th>cod_ibge</th>\n",
       "      <th>uf</th>\n",
       "      <th>num_pvl</th>\n",
       "      <th>status</th>\n",
       "      <th>num_processo</th>\n",
       "      <th>data_protocolo</th>\n",
       "      <th>tipo_operacao</th>\n",
       "      <th>finalidade</th>\n",
       "      <th>tipo_credor</th>\n",
       "      <th>credor</th>\n",
       "      <th>moeda</th>\n",
       "      <th>valor</th>\n",
       "      <th>pvl_assoc_divida</th>\n",
       "      <th>pvl_contradado_credor</th>\n",
       "      <th>data_status</th>\n",
       "    </tr>\n",
       "  </thead>\n",
       "  <tbody>\n",
       "    <tr>\n",
       "      <th>0</th>\n",
       "      <td>27353</td>\n",
       "      <td>Município</td>\n",
       "      <td>Amargosa</td>\n",
       "      <td>2901007</td>\n",
       "      <td>BA</td>\n",
       "      <td>PVL02.002662/2017-51</td>\n",
       "      <td>Arquivado por decurso de prazo</td>\n",
       "      <td>17944.100262/2018-53</td>\n",
       "      <td>2017-12-29T13:25:41Z</td>\n",
       "      <td>Operação contratual interna</td>\n",
       "      <td>Multissetorial</td>\n",
       "      <td>Instituição Financeira Nacional</td>\n",
       "      <td>Caixa Econômica Federal</td>\n",
       "      <td>Real</td>\n",
       "      <td>4350000.0</td>\n",
       "      <td>0</td>\n",
       "      <td>0</td>\n",
       "      <td>14/08/2018</td>\n",
       "    </tr>\n",
       "    <tr>\n",
       "      <th>1</th>\n",
       "      <td>64400</td>\n",
       "      <td>Município</td>\n",
       "      <td>Morro do Chapéu</td>\n",
       "      <td>2921708</td>\n",
       "      <td>BA</td>\n",
       "      <td>PVL02.000824/2023-64</td>\n",
       "      <td>Em análise</td>\n",
       "      <td>17944.101984/2023-92</td>\n",
       "      <td>2023-05-11T20:01:23Z</td>\n",
       "      <td>Operação contratual interna</td>\n",
       "      <td>Infraestrutura</td>\n",
       "      <td>Instituição Financeira Nacional</td>\n",
       "      <td>Caixa Econômica Federal</td>\n",
       "      <td>Real</td>\n",
       "      <td>8000000.0</td>\n",
       "      <td>0</td>\n",
       "      <td>0</td>\n",
       "      <td>12/05/2023</td>\n",
       "    </tr>\n",
       "    <tr>\n",
       "      <th>2</th>\n",
       "      <td>51749</td>\n",
       "      <td>Município</td>\n",
       "      <td>América Dourada</td>\n",
       "      <td>2901155</td>\n",
       "      <td>BA</td>\n",
       "      <td>PVL02.006841/2021-43</td>\n",
       "      <td>Deferido (PVL-IF)</td>\n",
       "      <td>None</td>\n",
       "      <td>None</td>\n",
       "      <td>Operação contratual interna</td>\n",
       "      <td>Infraestrutura</td>\n",
       "      <td>Instituição Financeira Nacional</td>\n",
       "      <td>Banco do Brasil S/A</td>\n",
       "      <td>Real</td>\n",
       "      <td>1790000.0</td>\n",
       "      <td>0</td>\n",
       "      <td>1</td>\n",
       "      <td>30/12/2021</td>\n",
       "    </tr>\n",
       "    <tr>\n",
       "      <th>3</th>\n",
       "      <td>48389</td>\n",
       "      <td>Município</td>\n",
       "      <td>Caculé</td>\n",
       "      <td>2905008</td>\n",
       "      <td>BA</td>\n",
       "      <td>PVL02.004341/2021-77</td>\n",
       "      <td>Deferido (PVL-IF)</td>\n",
       "      <td>None</td>\n",
       "      <td>None</td>\n",
       "      <td>Operação contratual interna</td>\n",
       "      <td>Aquisição de máquinas, equipamentos e veículos</td>\n",
       "      <td>Instituição Financeira Nacional</td>\n",
       "      <td>Agência de Fomento do Estado da Bahia S/A</td>\n",
       "      <td>Real</td>\n",
       "      <td>4200000.0</td>\n",
       "      <td>0</td>\n",
       "      <td>1</td>\n",
       "      <td>16/11/2021</td>\n",
       "    </tr>\n",
       "    <tr>\n",
       "      <th>4</th>\n",
       "      <td>25494</td>\n",
       "      <td>Município</td>\n",
       "      <td>Guajeru</td>\n",
       "      <td>2911659</td>\n",
       "      <td>BA</td>\n",
       "      <td>00000.000000/2029-02</td>\n",
       "      <td>Deferido</td>\n",
       "      <td>17944.000837/2017-58</td>\n",
       "      <td>2017-09-28T17:43:57Z</td>\n",
       "      <td>Operação contratual interna</td>\n",
       "      <td>Infraestrutura</td>\n",
       "      <td>Instituição Financeira Nacional</td>\n",
       "      <td>Agência de Fomento do Estado da Bahia S/A</td>\n",
       "      <td>Real</td>\n",
       "      <td>940755.0</td>\n",
       "      <td>0</td>\n",
       "      <td>0</td>\n",
       "      <td>06/10/2017</td>\n",
       "    </tr>\n",
       "  </tbody>\n",
       "</table>\n",
       "</div>"
      ],
      "text/plain": [
       "   id_pleito tipo_interessado      interessado  cod_ibge  uf  \\\n",
       "0      27353        Município         Amargosa   2901007  BA   \n",
       "1      64400        Município  Morro do Chapéu   2921708  BA   \n",
       "2      51749        Município  América Dourada   2901155  BA   \n",
       "3      48389        Município           Caculé   2905008  BA   \n",
       "4      25494        Município          Guajeru   2911659  BA   \n",
       "\n",
       "                num_pvl                          status          num_processo  \\\n",
       "0  PVL02.002662/2017-51  Arquivado por decurso de prazo  17944.100262/2018-53   \n",
       "1  PVL02.000824/2023-64                      Em análise  17944.101984/2023-92   \n",
       "2  PVL02.006841/2021-43               Deferido (PVL-IF)                  None   \n",
       "3  PVL02.004341/2021-77               Deferido (PVL-IF)                  None   \n",
       "4  00000.000000/2029-02                        Deferido  17944.000837/2017-58   \n",
       "\n",
       "         data_protocolo                tipo_operacao  \\\n",
       "0  2017-12-29T13:25:41Z  Operação contratual interna   \n",
       "1  2023-05-11T20:01:23Z  Operação contratual interna   \n",
       "2                  None  Operação contratual interna   \n",
       "3                  None  Operação contratual interna   \n",
       "4  2017-09-28T17:43:57Z  Operação contratual interna   \n",
       "\n",
       "                                       finalidade  \\\n",
       "0                                  Multissetorial   \n",
       "1                                  Infraestrutura   \n",
       "2                                  Infraestrutura   \n",
       "3  Aquisição de máquinas, equipamentos e veículos   \n",
       "4                                  Infraestrutura   \n",
       "\n",
       "                       tipo_credor                                     credor  \\\n",
       "0  Instituição Financeira Nacional                    Caixa Econômica Federal   \n",
       "1  Instituição Financeira Nacional                    Caixa Econômica Federal   \n",
       "2  Instituição Financeira Nacional                        Banco do Brasil S/A   \n",
       "3  Instituição Financeira Nacional  Agência de Fomento do Estado da Bahia S/A   \n",
       "4  Instituição Financeira Nacional  Agência de Fomento do Estado da Bahia S/A   \n",
       "\n",
       "  moeda      valor  pvl_assoc_divida  pvl_contradado_credor data_status  \n",
       "0  Real  4350000.0                 0                      0  14/08/2018  \n",
       "1  Real  8000000.0                 0                      0  12/05/2023  \n",
       "2  Real  1790000.0                 0                      1  30/12/2021  \n",
       "3  Real  4200000.0                 0                      1  16/11/2021  \n",
       "4  Real   940755.0                 0                      0  06/10/2017  "
      ]
     },
     "execution_count": 108,
     "metadata": {},
     "output_type": "execute_result"
    }
   ],
   "source": [
    "uf_ba = 'BA'\n",
    "interessado_ba = 'municipio'\n",
    "\n",
    "df_ba = le_api_pvl(uf_ba, interessado_ba)\n",
    "df_ba.head()"
   ]
  },
  {
   "cell_type": "markdown",
   "metadata": {},
   "source": [
    " ### Solicitações  com status em 'Arquivado por decurso de prazo'"
   ]
  },
  {
   "cell_type": "code",
   "execution_count": 109,
   "metadata": {
    "scrolled": true
   },
   "outputs": [],
   "source": [
    "# 2) Seu código aqui\n",
    "uf_mg = 'MG'\n",
    "interessado_mg = 'estado'\n",
    "df_mg = le_api_pvl(uf_mg, interessado_mg)"
   ]
  },
  {
   "cell_type": "code",
   "execution_count": 110,
   "metadata": {},
   "outputs": [
    {
     "data": {
      "text/plain": [
       "1"
      ]
     },
     "execution_count": 110,
     "metadata": {},
     "output_type": "execute_result"
    }
   ],
   "source": [
    "decurso_de_prazo = df_mg['status'] == 'Arquivado por decurso de prazo'\n",
    "df_mg['status'][decurso_de_prazo].nunique()"
   ]
  },
  {
   "cell_type": "markdown",
   "metadata": {},
   "source": [
    "### Município da Bahia com mais solicitações deferidas:"
   ]
  },
  {
   "cell_type": "code",
   "execution_count": 113,
   "metadata": {
    "scrolled": true
   },
   "outputs": [
    {
     "data": {
      "text/plain": [
       "Luís Eduardo Magalhães    15\n",
       "Name: interessado, dtype: int64"
      ]
     },
     "execution_count": 113,
     "metadata": {},
     "output_type": "execute_result"
    }
   ],
   "source": [
    "# 3) Seu código aqui\n",
    "df_ba.loc[df_ba['status'] == 'Deferido', 'interessado'].value_counts()[:1]"
   ]
  },
  {
   "cell_type": "code",
   "execution_count": 112,
   "metadata": {},
   "outputs": [],
   "source": [
    "# 4) Seu código aqui\n",
    "df = le_api_pvl('BA', 'Estado')\n",
    "df.to_csv('dados_solicitacoes_BA.csv', index=False)"
   ]
  }
 ],
 "metadata": {
  "kernelspec": {
   "display_name": "Python 3 (ipykernel)",
   "language": "python",
   "name": "python3"
  },
  "language_info": {
   "codemirror_mode": {
    "name": "ipython",
    "version": 3
   },
   "file_extension": ".py",
   "mimetype": "text/x-python",
   "name": "python",
   "nbconvert_exporter": "python",
   "pygments_lexer": "ipython3",
   "version": "3.10.9"
  }
 },
 "nbformat": 4,
 "nbformat_minor": 4
}
